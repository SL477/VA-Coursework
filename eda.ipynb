{
 "cells": [
  {
   "cell_type": "markdown",
   "metadata": {},
   "source": [
    "# EDA"
   ]
  },
  {
   "cell_type": "code",
   "execution_count": null,
   "metadata": {},
   "outputs": [],
   "source": [
    "# imports\n",
    "import pandas as pd\n",
    "import matplotlib.pyplot as plt\n",
    "import seaborn as sns"
   ]
  },
  {
   "cell_type": "code",
   "execution_count": null,
   "metadata": {},
   "outputs": [],
   "source": [
    "# import census data\n",
    "census_df = pd.read_csv(\"districtCensusData.csv\")\n",
    "census_df"
   ]
  },
  {
   "cell_type": "code",
   "execution_count": null,
   "metadata": {},
   "outputs": [],
   "source": [
    "# boxplots and histograms\n",
    "cols = census_df.columns.to_list()[2:]\n",
    "for col in cols:\n",
    "    fig, ax = plt.subplots(ncols=2)\n",
    "    ax[0].boxplot(census_df[col])\n",
    "    ax[0].set_title(col)\n",
    "    ax[1].hist(census_df[col])\n",
    "    plt.show()"
   ]
  },
  {
   "cell_type": "markdown",
   "metadata": {},
   "source": [
    "Get the district case data and look for interactions"
   ]
  },
  {
   "cell_type": "code",
   "execution_count": null,
   "metadata": {},
   "outputs": [],
   "source": [
    "cases_df = pd.read_csv('data/ltla_caseData.csv')\n",
    "cases_df.head()"
   ]
  },
  {
   "cell_type": "code",
   "execution_count": null,
   "metadata": {},
   "outputs": [],
   "source": [
    "cases_sum = cases_df.groupby('areaCode').sum()\n",
    "cases_sum"
   ]
  },
  {
   "cell_type": "code",
   "execution_count": null,
   "metadata": {},
   "outputs": [],
   "source": [
    "# join census and cases_sum\n",
    "df = census_df.merge(cases_sum, how='inner', left_on='geography_code', right_on=cases_sum.index)\n",
    "df"
   ]
  },
  {
   "cell_type": "code",
   "execution_count": null,
   "metadata": {},
   "outputs": [],
   "source": [
    "# relative cases\n",
    "df['relativeCases'] = df['newCasesByPublishDate'] / (df['00_59'] + df['60+'])"
   ]
  },
  {
   "cell_type": "code",
   "execution_count": null,
   "metadata": {},
   "outputs": [],
   "source": [
    "for col in cols:\n",
    "    #plt.scatter(df[col], df['relativeCases'])\n",
    "    #plt.title(col)\n",
    "    #plt.xlabel(col)\n",
    "    #plt.ylabel('relative cases')\n",
    "    sns.regplot(data=df, x=col, y='relativeCases')\n",
    "    plt.show()"
   ]
  }
 ],
 "metadata": {
  "interpreter": {
   "hash": "2584526a85b5de6adba28a84d9fee7209f51d58121633feacd9643577f7e153b"
  },
  "kernelspec": {
   "display_name": "Python 3.8.8 64-bit ('VA-Coursework-8DGyFsNT': pipenv)",
   "language": "python",
   "name": "python3"
  },
  "language_info": {
   "codemirror_mode": {
    "name": "ipython",
    "version": 3
   },
   "file_extension": ".py",
   "mimetype": "text/x-python",
   "name": "python",
   "nbconvert_exporter": "python",
   "pygments_lexer": "ipython3",
   "version": "3.8.8"
  },
  "orig_nbformat": 4
 },
 "nbformat": 4,
 "nbformat_minor": 2
}
